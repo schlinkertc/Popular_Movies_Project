{
 "cells": [
  {
   "cell_type": "code",
   "execution_count": 25,
   "metadata": {},
   "outputs": [],
   "source": [
    "import config\n",
    "import json\n",
    "import requests\n",
    "import vulture_scraper as vulture\n",
    "api_key = config.API_key\n",
    "import time "
   ]
  },
  {
   "cell_type": "code",
   "execution_count": 3,
   "metadata": {},
   "outputs": [],
   "source": [
    "## returns data from Movie DB's list of popular movies. updated daily \n",
    "def get_popular(api_key):\n",
    "\n",
    "    url = \"https://api.themoviedb.org/3/movie/popular?api_key={}&language=en-US\".format(api_key)\n",
    "    return requests.get(url).json()"
   ]
  },
  {
   "cell_type": "code",
   "execution_count": 4,
   "metadata": {},
   "outputs": [
    {
     "data": {
      "text/plain": [
       "['Joker',\n",
       " 'Maleficent: Mistress of Evil',\n",
       " 'Terminator: Dark Fate',\n",
       " 'Fast & Furious Presents: Hobbs & Shaw',\n",
       " 'The Lion King']"
      ]
     },
     "execution_count": 4,
     "metadata": {},
     "output_type": "execute_result"
    }
   ],
   "source": [
    "## returns only the titles from Movie DB's list of popular movies \n",
    "def get_popular_titles(api_key):\n",
    "    data = get_popular(api_key)\n",
    "    return [x['title'] for x in data['results']]\n",
    "\n",
    "get_popular_titles(api_key)[:5]"
   ]
  },
  {
   "cell_type": "code",
   "execution_count": 5,
   "metadata": {},
   "outputs": [],
   "source": [
    "## returns data from Movie DB's list of top rated movies \n",
    "def get_top_rated(api_key):\n",
    "    url = \"https://api.themoviedb.org/3/movie/top_rated?api_key={}&language=en-US\".format(api_key)\n",
    "    return requests.get(url).json()"
   ]
  },
  {
   "cell_type": "code",
   "execution_count": 6,
   "metadata": {},
   "outputs": [],
   "source": [
    "## returns list of IDs from Movie DB's top rated movies \n",
    "def get_top_rated_ids(api_key):\n",
    "    data = get_top_rated(api_key)\n",
    "    return [x['id'] for x in data['results']]\n"
   ]
  },
  {
   "cell_type": "code",
   "execution_count": 286,
   "metadata": {},
   "outputs": [],
   "source": [
    "## returns full details when given a list of movie IDs\n",
    "def get_movies(api_key,ids):\n",
    "    data = []\n",
    "    for i in ids:\n",
    "        url = \"https://api.themoviedb.org/3/movie/{}?api_key={}&language=en-US\".format(i,api_key)\n",
    "        time.sleep(.5)\n",
    "        data.append(requests.get(url).json())\n",
    "    return data"
   ]
  },
  {
   "cell_type": "code",
   "execution_count": 241,
   "metadata": {},
   "outputs": [],
   "source": [
    "## returns movie data when given an API key and list of movie titles \n",
    "\n",
    "def search_movies(api_key, list_of_movies):\n",
    "    data = []\n",
    "    for movie in list_of_movies[0:40]:\n",
    "        url = \"https://api.themoviedb.org/3/search/movie?api_key={}&language=en-US&query={}\".format(api_key,movie)\n",
    "        data.extend(requests.get(url).json()['results'])\n",
    "        time.sleep(1)\n",
    "    #time.sleep(10)\n",
    "    for movie in list_of_movies[40:]:\n",
    "        url = \"https://api.themoviedb.org/3/search/movie?api_key={}&language=en-US&query={}\".format(api_key,movie)\n",
    "        data.extend(requests.get(url).json()['results'])\n",
    "        time.sleep(1)\n",
    "    return data\n"
   ]
  },
  {
   "cell_type": "code",
   "execution_count": 184,
   "metadata": {},
   "outputs": [],
   "source": [
    "# def search_movies(api_key, list_of_movies):\n",
    "#     data = []\n",
    "#     for movie in list_of_movies[0:40]:\n",
    "#         url = \"https://api.themoviedb.org/3/search/movie?api_key={}&language=en-US&query={}\".format(api_key,movie)\n",
    "#         temp = requests.get(url).json()['results']\n",
    "#         data.extend(temp[0])\n",
    "#         time.sleep(1)\n",
    "#     time.sleep(21)\n",
    "#     for movie in list_of_movies[41:]:\n",
    "#         url = \"https://api.themoviedb.org/3/search/movie?api_key={}&language=en-US&query={}\".format(api_key,movie)\n",
    "#         temp = requests.get(url).json()['results']\n",
    "#         data.extend(temp[0])\n",
    "#         time.sleep(1)\n",
    "#     return data\n"
   ]
  },
  {
   "cell_type": "code",
   "execution_count": 243,
   "metadata": {},
   "outputs": [],
   "source": [
    "## search Movie DB for the best movies on Hulu according to Vulture \n",
    "\n",
    "hulu_movies = search_movies(api_key, vulture.best_hulu)"
   ]
  },
  {
   "cell_type": "code",
   "execution_count": 270,
   "metadata": {},
   "outputs": [],
   "source": [
    "netflix_movies = search_movies(api_key, vulture.best_netflix)"
   ]
  },
  {
   "cell_type": "code",
   "execution_count": 271,
   "metadata": {},
   "outputs": [],
   "source": [
    "amazon_movies = search_movies(api_key, vulture.best_amazon)"
   ]
  },
  {
   "cell_type": "code",
   "execution_count": 278,
   "metadata": {},
   "outputs": [
    {
     "name": "stdout",
     "output_type": "stream",
     "text": [
      "2132\n"
     ]
    },
    {
     "data": {
      "text/plain": [
       "1958"
      ]
     },
     "execution_count": 278,
     "metadata": {},
     "output_type": "execute_result"
    }
   ],
   "source": [
    "print(len(hulu_movies)+len(netflix_movies)+len(amazon_movies))\n",
    "all_ids = {x['id'] for x in hulu_movies}|{x['id'] for x in netflix_movies}|{x['id'] for x in amazon_movies}\n",
    "len(set((all_ids)))\n"
   ]
  },
  {
   "cell_type": "code",
   "execution_count": 265,
   "metadata": {},
   "outputs": [],
   "source": [
    "get_movies_test = get_movies(api_key,set([x['id'] for x in hulu_movies][0:41]))"
   ]
  },
  {
   "cell_type": "code",
   "execution_count": 290,
   "metadata": {},
   "outputs": [
    {
     "ename": "KeyboardInterrupt",
     "evalue": "",
     "output_type": "error",
     "traceback": [
      "\u001b[0;31m---------------------------------------------------------------------------\u001b[0m",
      "\u001b[0;31mKeyboardInterrupt\u001b[0m                         Traceback (most recent call last)",
      "\u001b[0;32m<ipython-input-290-184fe617f8dc>\u001b[0m in \u001b[0;36m<module>\u001b[0;34m\u001b[0m\n\u001b[0;32m----> 1\u001b[0;31m \u001b[0mall_movie_data\u001b[0m \u001b[0;34m=\u001b[0m \u001b[0mget_movies\u001b[0m\u001b[0;34m(\u001b[0m\u001b[0mapi_key\u001b[0m\u001b[0;34m,\u001b[0m\u001b[0mset\u001b[0m\u001b[0;34m(\u001b[0m\u001b[0mall_ids\u001b[0m\u001b[0;34m)\u001b[0m\u001b[0;34m)\u001b[0m\u001b[0;34m\u001b[0m\u001b[0;34m\u001b[0m\u001b[0m\n\u001b[0m\u001b[1;32m      2\u001b[0m \u001b[0mtype\u001b[0m\u001b[0;34m(\u001b[0m\u001b[0mall_movie_data\u001b[0m\u001b[0;34m)\u001b[0m\u001b[0;34m\u001b[0m\u001b[0;34m\u001b[0m\u001b[0m\n",
      "\u001b[0;32m<ipython-input-286-c208b6301ec8>\u001b[0m in \u001b[0;36mget_movies\u001b[0;34m(api_key, ids)\u001b[0m\n\u001b[1;32m      4\u001b[0m     \u001b[0;32mfor\u001b[0m \u001b[0mi\u001b[0m \u001b[0;32min\u001b[0m \u001b[0mids\u001b[0m\u001b[0;34m:\u001b[0m\u001b[0;34m\u001b[0m\u001b[0;34m\u001b[0m\u001b[0m\n\u001b[1;32m      5\u001b[0m         \u001b[0murl\u001b[0m \u001b[0;34m=\u001b[0m \u001b[0;34m\"https://api.themoviedb.org/3/movie/{}?api_key={}&language=en-US\"\u001b[0m\u001b[0;34m.\u001b[0m\u001b[0mformat\u001b[0m\u001b[0;34m(\u001b[0m\u001b[0mi\u001b[0m\u001b[0;34m,\u001b[0m\u001b[0mapi_key\u001b[0m\u001b[0;34m)\u001b[0m\u001b[0;34m\u001b[0m\u001b[0;34m\u001b[0m\u001b[0m\n\u001b[0;32m----> 6\u001b[0;31m         \u001b[0mtime\u001b[0m\u001b[0;34m.\u001b[0m\u001b[0msleep\u001b[0m\u001b[0;34m(\u001b[0m\u001b[0;36m.5\u001b[0m\u001b[0;34m)\u001b[0m\u001b[0;34m\u001b[0m\u001b[0;34m\u001b[0m\u001b[0m\n\u001b[0m\u001b[1;32m      7\u001b[0m         \u001b[0mdata\u001b[0m\u001b[0;34m.\u001b[0m\u001b[0mappend\u001b[0m\u001b[0;34m(\u001b[0m\u001b[0mrequests\u001b[0m\u001b[0;34m.\u001b[0m\u001b[0mget\u001b[0m\u001b[0;34m(\u001b[0m\u001b[0murl\u001b[0m\u001b[0;34m)\u001b[0m\u001b[0;34m.\u001b[0m\u001b[0mjson\u001b[0m\u001b[0;34m(\u001b[0m\u001b[0;34m)\u001b[0m\u001b[0;34m)\u001b[0m\u001b[0;34m\u001b[0m\u001b[0;34m\u001b[0m\u001b[0m\n\u001b[1;32m      8\u001b[0m     \u001b[0;32mreturn\u001b[0m \u001b[0mdata\u001b[0m\u001b[0;34m\u001b[0m\u001b[0;34m\u001b[0m\u001b[0m\n",
      "\u001b[0;31mKeyboardInterrupt\u001b[0m: "
     ]
    }
   ],
   "source": [
    "all_movie_data = get_movies(api_key,set(all_ids))\n"
   ]
  },
  {
   "cell_type": "code",
   "execution_count": 333,
   "metadata": {},
   "outputs": [
    {
     "data": {
      "text/html": [
       "<div>\n",
       "<style scoped>\n",
       "    .dataframe tbody tr th:only-of-type {\n",
       "        vertical-align: middle;\n",
       "    }\n",
       "\n",
       "    .dataframe tbody tr th {\n",
       "        vertical-align: top;\n",
       "    }\n",
       "\n",
       "    .dataframe thead th {\n",
       "        text-align: right;\n",
       "    }\n",
       "</style>\n",
       "<table border=\"1\" class=\"dataframe\">\n",
       "  <thead>\n",
       "    <tr style=\"text-align: right;\">\n",
       "      <th></th>\n",
       "      <th>imdb_id</th>\n",
       "      <th>title</th>\n",
       "      <th>revenue</th>\n",
       "      <th>budget</th>\n",
       "      <th>tagline</th>\n",
       "      <th>runtime</th>\n",
       "      <th>genres</th>\n",
       "      <th>gross_profit</th>\n",
       "    </tr>\n",
       "  </thead>\n",
       "  <tbody>\n",
       "    <tr>\n",
       "      <td>296</td>\n",
       "      <td>tt4154796</td>\n",
       "      <td>Avengers: Endgame</td>\n",
       "      <td>2797800564</td>\n",
       "      <td>356000000</td>\n",
       "      <td>Part of the journey is the end.</td>\n",
       "      <td>181.0</td>\n",
       "      <td>[{'id': 12, 'name': 'Adventure'}, {'id': 878, ...</td>\n",
       "      <td>2441800564</td>\n",
       "    </tr>\n",
       "    <tr>\n",
       "      <td>736</td>\n",
       "      <td>tt1825683</td>\n",
       "      <td>Black Panther</td>\n",
       "      <td>1346739107</td>\n",
       "      <td>200000000</td>\n",
       "      <td>Long live the king.</td>\n",
       "      <td>134.0</td>\n",
       "      <td>[{'id': 28, 'name': 'Action'}, {'id': 12, 'nam...</td>\n",
       "      <td>1146739107</td>\n",
       "    </tr>\n",
       "    <tr>\n",
       "      <td>802</td>\n",
       "      <td>tt2527336</td>\n",
       "      <td>Star Wars: The Last Jedi</td>\n",
       "      <td>1332459537</td>\n",
       "      <td>200000000</td>\n",
       "      <td>Darkness rises... and light to meet it</td>\n",
       "      <td>152.0</td>\n",
       "      <td>[{'id': 14, 'name': 'Fantasy'}, {'id': 12, 'na...</td>\n",
       "      <td>1132459537</td>\n",
       "    </tr>\n",
       "    <tr>\n",
       "      <td>1211</td>\n",
       "      <td>tt3606756</td>\n",
       "      <td>Incredibles 2</td>\n",
       "      <td>1241891456</td>\n",
       "      <td>200000000</td>\n",
       "      <td>Back to work.</td>\n",
       "      <td>118.0</td>\n",
       "      <td>[{'id': 28, 'name': 'Action'}, {'id': 12, 'nam...</td>\n",
       "      <td>1041891456</td>\n",
       "    </tr>\n",
       "    <tr>\n",
       "      <td>443</td>\n",
       "      <td>tt0298148</td>\n",
       "      <td>Shrek 2</td>\n",
       "      <td>919838758</td>\n",
       "      <td>150000000</td>\n",
       "      <td>Once upon another time...</td>\n",
       "      <td>93.0</td>\n",
       "      <td>[{'id': 12, 'name': 'Adventure'}, {'id': 16, '...</td>\n",
       "      <td>769838758</td>\n",
       "    </tr>\n",
       "    <tr>\n",
       "      <td>...</td>\n",
       "      <td>...</td>\n",
       "      <td>...</td>\n",
       "      <td>...</td>\n",
       "      <td>...</td>\n",
       "      <td>...</td>\n",
       "      <td>...</td>\n",
       "      <td>...</td>\n",
       "      <td>...</td>\n",
       "    </tr>\n",
       "    <tr>\n",
       "      <td>61</td>\n",
       "      <td>tt1046997</td>\n",
       "      <td>Miracle at St. Anna</td>\n",
       "      <td>9323833</td>\n",
       "      <td>45000000</td>\n",
       "      <td></td>\n",
       "      <td>160.0</td>\n",
       "      <td>[{'id': 18, 'name': 'Drama'}, {'id': 10752, 'n...</td>\n",
       "      <td>-35676167</td>\n",
       "    </tr>\n",
       "    <tr>\n",
       "      <td>1479</td>\n",
       "      <td>tt0891592</td>\n",
       "      <td>Street Fighter: The Legend of Chun-Li</td>\n",
       "      <td>12764201</td>\n",
       "      <td>50000000</td>\n",
       "      <td>Some fight for power. Some fight for us.</td>\n",
       "      <td>97.0</td>\n",
       "      <td>[{'id': 28, 'name': 'Action'}, {'id': 12, 'nam...</td>\n",
       "      <td>-37235799</td>\n",
       "    </tr>\n",
       "    <tr>\n",
       "      <td>685</td>\n",
       "      <td>tt0131704</td>\n",
       "      <td>The Adventures of Rocky &amp; Bullwinkle</td>\n",
       "      <td>35134820</td>\n",
       "      <td>76000000</td>\n",
       "      <td>This summer it's not the same old bull.</td>\n",
       "      <td>88.0</td>\n",
       "      <td>[{'id': 28, 'name': 'Action'}, {'id': 12, 'nam...</td>\n",
       "      <td>-40865180</td>\n",
       "    </tr>\n",
       "    <tr>\n",
       "      <td>417</td>\n",
       "      <td>tt0427392</td>\n",
       "      <td>The Invasion</td>\n",
       "      <td>15071514</td>\n",
       "      <td>80000000</td>\n",
       "      <td>Do not trust anyone. Do not show emotion. Do n...</td>\n",
       "      <td>99.0</td>\n",
       "      <td>[{'id': 878, 'name': 'Science Fiction'}, {'id'...</td>\n",
       "      <td>-64928486</td>\n",
       "    </tr>\n",
       "    <tr>\n",
       "      <td>958</td>\n",
       "      <td>tt0120657</td>\n",
       "      <td>The 13th Warrior</td>\n",
       "      <td>61698899</td>\n",
       "      <td>160000000</td>\n",
       "      <td>Prey for the living.</td>\n",
       "      <td>102.0</td>\n",
       "      <td>[{'id': 12, 'name': 'Adventure'}, {'id': 36, '...</td>\n",
       "      <td>-98301101</td>\n",
       "    </tr>\n",
       "  </tbody>\n",
       "</table>\n",
       "<p>386 rows × 8 columns</p>\n",
       "</div>"
      ],
      "text/plain": [
       "        imdb_id                                  title     revenue     budget  \\\n",
       "296   tt4154796                      Avengers: Endgame  2797800564  356000000   \n",
       "736   tt1825683                          Black Panther  1346739107  200000000   \n",
       "802   tt2527336               Star Wars: The Last Jedi  1332459537  200000000   \n",
       "1211  tt3606756                          Incredibles 2  1241891456  200000000   \n",
       "443   tt0298148                                Shrek 2   919838758  150000000   \n",
       "...         ...                                    ...         ...        ...   \n",
       "61    tt1046997                    Miracle at St. Anna     9323833   45000000   \n",
       "1479  tt0891592  Street Fighter: The Legend of Chun-Li    12764201   50000000   \n",
       "685   tt0131704   The Adventures of Rocky & Bullwinkle    35134820   76000000   \n",
       "417   tt0427392                           The Invasion    15071514   80000000   \n",
       "958   tt0120657                       The 13th Warrior    61698899  160000000   \n",
       "\n",
       "                                                tagline  runtime  \\\n",
       "296                     Part of the journey is the end.    181.0   \n",
       "736                                 Long live the king.    134.0   \n",
       "802              Darkness rises... and light to meet it    152.0   \n",
       "1211                                      Back to work.    118.0   \n",
       "443                           Once upon another time...     93.0   \n",
       "...                                                 ...      ...   \n",
       "61                                                         160.0   \n",
       "1479           Some fight for power. Some fight for us.     97.0   \n",
       "685             This summer it's not the same old bull.     88.0   \n",
       "417   Do not trust anyone. Do not show emotion. Do n...     99.0   \n",
       "958                                Prey for the living.    102.0   \n",
       "\n",
       "                                                 genres  gross_profit  \n",
       "296   [{'id': 12, 'name': 'Adventure'}, {'id': 878, ...    2441800564  \n",
       "736   [{'id': 28, 'name': 'Action'}, {'id': 12, 'nam...    1146739107  \n",
       "802   [{'id': 14, 'name': 'Fantasy'}, {'id': 12, 'na...    1132459537  \n",
       "1211  [{'id': 28, 'name': 'Action'}, {'id': 12, 'nam...    1041891456  \n",
       "443   [{'id': 12, 'name': 'Adventure'}, {'id': 16, '...     769838758  \n",
       "...                                                 ...           ...  \n",
       "61    [{'id': 18, 'name': 'Drama'}, {'id': 10752, 'n...     -35676167  \n",
       "1479  [{'id': 28, 'name': 'Action'}, {'id': 12, 'nam...     -37235799  \n",
       "685   [{'id': 28, 'name': 'Action'}, {'id': 12, 'nam...     -40865180  \n",
       "417   [{'id': 878, 'name': 'Science Fiction'}, {'id'...     -64928486  \n",
       "958   [{'id': 12, 'name': 'Adventure'}, {'id': 36, '...     -98301101  \n",
       "\n",
       "[386 rows x 8 columns]"
      ]
     },
     "execution_count": 333,
     "metadata": {},
     "output_type": "execute_result"
    }
   ],
   "source": [
    "df = pd.DataFrame(all_movie_data)\n",
    "df.head()\n",
    "df_rev_budget = df[['imdb_id','title','revenue','budget','tagline','runtime','genres']]\n",
    "df_rev_budget = df_rev_budget[df_rev_budget['revenue']>0]\n",
    "df_rev_budget['gross_profit']=df['revenue']-df['budget']\n",
    "df_rev_budget.sort_values('gross_profit',ascending=False,inplace=True)\n",
    "df_rev_budget"
   ]
  },
  {
   "cell_type": "code",
   "execution_count": 334,
   "metadata": {},
   "outputs": [
    {
     "data": {
      "text/html": [
       "<div>\n",
       "<style scoped>\n",
       "    .dataframe tbody tr th:only-of-type {\n",
       "        vertical-align: middle;\n",
       "    }\n",
       "\n",
       "    .dataframe tbody tr th {\n",
       "        vertical-align: top;\n",
       "    }\n",
       "\n",
       "    .dataframe thead th {\n",
       "        text-align: right;\n",
       "    }\n",
       "</style>\n",
       "<table border=\"1\" class=\"dataframe\">\n",
       "  <thead>\n",
       "    <tr style=\"text-align: right;\">\n",
       "      <th></th>\n",
       "      <th>imdb_id</th>\n",
       "      <th>title</th>\n",
       "      <th>revenue</th>\n",
       "      <th>budget</th>\n",
       "      <th>tagline</th>\n",
       "      <th>runtime</th>\n",
       "      <th>genres</th>\n",
       "      <th>gross_profit</th>\n",
       "    </tr>\n",
       "  </thead>\n",
       "  <tbody>\n",
       "    <tr>\n",
       "      <td>296</td>\n",
       "      <td>tt4154796</td>\n",
       "      <td>Avengers: Endgame</td>\n",
       "      <td>2797800564</td>\n",
       "      <td>356000000</td>\n",
       "      <td>Part of the journey is the end.</td>\n",
       "      <td>181.0</td>\n",
       "      <td>[12, 878, 28]</td>\n",
       "      <td>2441800564</td>\n",
       "    </tr>\n",
       "    <tr>\n",
       "      <td>736</td>\n",
       "      <td>tt1825683</td>\n",
       "      <td>Black Panther</td>\n",
       "      <td>1346739107</td>\n",
       "      <td>200000000</td>\n",
       "      <td>Long live the king.</td>\n",
       "      <td>134.0</td>\n",
       "      <td>[28, 12, 14, 878]</td>\n",
       "      <td>1146739107</td>\n",
       "    </tr>\n",
       "    <tr>\n",
       "      <td>802</td>\n",
       "      <td>tt2527336</td>\n",
       "      <td>Star Wars: The Last Jedi</td>\n",
       "      <td>1332459537</td>\n",
       "      <td>200000000</td>\n",
       "      <td>Darkness rises... and light to meet it</td>\n",
       "      <td>152.0</td>\n",
       "      <td>[14, 12, 878, 28]</td>\n",
       "      <td>1132459537</td>\n",
       "    </tr>\n",
       "    <tr>\n",
       "      <td>1211</td>\n",
       "      <td>tt3606756</td>\n",
       "      <td>Incredibles 2</td>\n",
       "      <td>1241891456</td>\n",
       "      <td>200000000</td>\n",
       "      <td>Back to work.</td>\n",
       "      <td>118.0</td>\n",
       "      <td>[28, 12, 16, 10751]</td>\n",
       "      <td>1041891456</td>\n",
       "    </tr>\n",
       "    <tr>\n",
       "      <td>443</td>\n",
       "      <td>tt0298148</td>\n",
       "      <td>Shrek 2</td>\n",
       "      <td>919838758</td>\n",
       "      <td>150000000</td>\n",
       "      <td>Once upon another time...</td>\n",
       "      <td>93.0</td>\n",
       "      <td>[12, 16, 35, 10751, 14]</td>\n",
       "      <td>769838758</td>\n",
       "    </tr>\n",
       "  </tbody>\n",
       "</table>\n",
       "</div>"
      ],
      "text/plain": [
       "        imdb_id                     title     revenue     budget  \\\n",
       "296   tt4154796         Avengers: Endgame  2797800564  356000000   \n",
       "736   tt1825683             Black Panther  1346739107  200000000   \n",
       "802   tt2527336  Star Wars: The Last Jedi  1332459537  200000000   \n",
       "1211  tt3606756             Incredibles 2  1241891456  200000000   \n",
       "443   tt0298148                   Shrek 2   919838758  150000000   \n",
       "\n",
       "                                     tagline  runtime  \\\n",
       "296          Part of the journey is the end.    181.0   \n",
       "736                      Long live the king.    134.0   \n",
       "802   Darkness rises... and light to meet it    152.0   \n",
       "1211                           Back to work.    118.0   \n",
       "443                Once upon another time...     93.0   \n",
       "\n",
       "                       genres  gross_profit  \n",
       "296             [12, 878, 28]    2441800564  \n",
       "736         [28, 12, 14, 878]    1146739107  \n",
       "802         [14, 12, 878, 28]    1132459537  \n",
       "1211      [28, 12, 16, 10751]    1041891456  \n",
       "443   [12, 16, 35, 10751, 14]     769838758  "
      ]
     },
     "execution_count": 334,
     "metadata": {},
     "output_type": "execute_result"
    }
   ],
   "source": [
    "df_rev_budget['genres']=df_rev_budget['genres'].map(lambda x: [y['id'] for y in x])\n",
    "df_rev_budget.head()"
   ]
  },
  {
   "cell_type": "code",
   "execution_count": 326,
   "metadata": {},
   "outputs": [
    {
     "data": {
      "text/html": [
       "<div>\n",
       "<style scoped>\n",
       "    .dataframe tbody tr th:only-of-type {\n",
       "        vertical-align: middle;\n",
       "    }\n",
       "\n",
       "    .dataframe tbody tr th {\n",
       "        vertical-align: top;\n",
       "    }\n",
       "\n",
       "    .dataframe thead th {\n",
       "        text-align: right;\n",
       "    }\n",
       "</style>\n",
       "<table border=\"1\" class=\"dataframe\">\n",
       "  <thead>\n",
       "    <tr style=\"text-align: right;\">\n",
       "      <th></th>\n",
       "      <th>imdb_id</th>\n",
       "      <th>title</th>\n",
       "      <th>revenue</th>\n",
       "      <th>budget</th>\n",
       "      <th>tagline</th>\n",
       "      <th>runtime</th>\n",
       "      <th>genres</th>\n",
       "      <th>gross_profit</th>\n",
       "    </tr>\n",
       "  </thead>\n",
       "  <tbody>\n",
       "    <tr>\n",
       "      <td>296</td>\n",
       "      <td>tt4154796</td>\n",
       "      <td>Avengers: Endgame</td>\n",
       "      <td>2797800564</td>\n",
       "      <td>356000000</td>\n",
       "      <td>Part of the journey is the end.</td>\n",
       "      <td>181.0</td>\n",
       "      <td>[Adventure, Science Fiction, Action]</td>\n",
       "      <td>2441800564</td>\n",
       "    </tr>\n",
       "    <tr>\n",
       "      <td>736</td>\n",
       "      <td>tt1825683</td>\n",
       "      <td>Black Panther</td>\n",
       "      <td>1346739107</td>\n",
       "      <td>200000000</td>\n",
       "      <td>Long live the king.</td>\n",
       "      <td>134.0</td>\n",
       "      <td>[Action, Adventure, Fantasy, Science Fiction]</td>\n",
       "      <td>1146739107</td>\n",
       "    </tr>\n",
       "    <tr>\n",
       "      <td>802</td>\n",
       "      <td>tt2527336</td>\n",
       "      <td>Star Wars: The Last Jedi</td>\n",
       "      <td>1332459537</td>\n",
       "      <td>200000000</td>\n",
       "      <td>Darkness rises... and light to meet it</td>\n",
       "      <td>152.0</td>\n",
       "      <td>[Fantasy, Adventure, Science Fiction, Action]</td>\n",
       "      <td>1132459537</td>\n",
       "    </tr>\n",
       "    <tr>\n",
       "      <td>1211</td>\n",
       "      <td>tt3606756</td>\n",
       "      <td>Incredibles 2</td>\n",
       "      <td>1241891456</td>\n",
       "      <td>200000000</td>\n",
       "      <td>Back to work.</td>\n",
       "      <td>118.0</td>\n",
       "      <td>[Action, Adventure, Animation, Family]</td>\n",
       "      <td>1041891456</td>\n",
       "    </tr>\n",
       "    <tr>\n",
       "      <td>443</td>\n",
       "      <td>tt0298148</td>\n",
       "      <td>Shrek 2</td>\n",
       "      <td>919838758</td>\n",
       "      <td>150000000</td>\n",
       "      <td>Once upon another time...</td>\n",
       "      <td>93.0</td>\n",
       "      <td>[Adventure, Animation, Comedy, Family, Fantasy]</td>\n",
       "      <td>769838758</td>\n",
       "    </tr>\n",
       "  </tbody>\n",
       "</table>\n",
       "</div>"
      ],
      "text/plain": [
       "        imdb_id                     title     revenue     budget  \\\n",
       "296   tt4154796         Avengers: Endgame  2797800564  356000000   \n",
       "736   tt1825683             Black Panther  1346739107  200000000   \n",
       "802   tt2527336  Star Wars: The Last Jedi  1332459537  200000000   \n",
       "1211  tt3606756             Incredibles 2  1241891456  200000000   \n",
       "443   tt0298148                   Shrek 2   919838758  150000000   \n",
       "\n",
       "                                     tagline  runtime  \\\n",
       "296          Part of the journey is the end.    181.0   \n",
       "736                      Long live the king.    134.0   \n",
       "802   Darkness rises... and light to meet it    152.0   \n",
       "1211                           Back to work.    118.0   \n",
       "443                Once upon another time...     93.0   \n",
       "\n",
       "                                               genres  gross_profit  \n",
       "296              [Adventure, Science Fiction, Action]    2441800564  \n",
       "736     [Action, Adventure, Fantasy, Science Fiction]    1146739107  \n",
       "802     [Fantasy, Adventure, Science Fiction, Action]    1132459537  \n",
       "1211           [Action, Adventure, Animation, Family]    1041891456  \n",
       "443   [Adventure, Animation, Comedy, Family, Fantasy]     769838758  "
      ]
     },
     "execution_count": 326,
     "metadata": {},
     "output_type": "execute_result"
    }
   ],
   "source": [
    "df_rev_budget.head()"
   ]
  },
  {
   "cell_type": "code",
   "execution_count": 339,
   "metadata": {},
   "outputs": [
    {
     "data": {
      "text/plain": [
       "Index(['adult', 'backdrop_path', 'belongs_to_collection', 'budget', 'genres',\n",
       "       'homepage', 'id', 'imdb_id', 'original_language', 'original_title',\n",
       "       'overview', 'popularity', 'poster_path', 'production_companies',\n",
       "       'production_countries', 'release_date', 'revenue', 'runtime',\n",
       "       'spoken_languages', 'status', 'tagline', 'title', 'video',\n",
       "       'vote_average', 'vote_count'],\n",
       "      dtype='object')"
      ]
     },
     "execution_count": 339,
     "metadata": {},
     "output_type": "execute_result"
    }
   ],
   "source": [
    "df.columns"
   ]
  },
  {
   "cell_type": "code",
   "execution_count": 352,
   "metadata": {},
   "outputs": [
    {
     "name": "stdout",
     "output_type": "stream",
     "text": [
      "<class 'pandas.core.frame.DataFrame'>\n",
      "RangeIndex: 1958 entries, 0 to 1957\n",
      "Data columns (total 25 columns):\n",
      "adult                    1958 non-null bool\n",
      "backdrop_path            1136 non-null object\n",
      "belongs_to_collection    193 non-null object\n",
      "budget                   1958 non-null int64\n",
      "genres                   1958 non-null object\n",
      "homepage                 377 non-null object\n",
      "id                       1958 non-null int64\n",
      "imdb_id                  1777 non-null object\n",
      "original_language        1958 non-null object\n",
      "original_title           1958 non-null object\n",
      "overview                 1958 non-null object\n",
      "popularity               1958 non-null float64\n",
      "poster_path              1703 non-null object\n",
      "production_companies     1958 non-null object\n",
      "production_countries     1958 non-null object\n",
      "release_date             1958 non-null object\n",
      "revenue                  1958 non-null int64\n",
      "runtime                  1719 non-null float64\n",
      "spoken_languages         1958 non-null object\n",
      "status                   1958 non-null object\n",
      "tagline                  1958 non-null object\n",
      "title                    1958 non-null object\n",
      "video                    1958 non-null bool\n",
      "vote_average             1958 non-null float64\n",
      "vote_count               1958 non-null int64\n",
      "dtypes: bool(2), float64(3), int64(4), object(16)\n",
      "memory usage: 355.8+ KB\n"
     ]
    }
   ],
   "source": [
    "df.info()"
   ]
  },
  {
   "cell_type": "code",
   "execution_count": 354,
   "metadata": {},
   "outputs": [
    {
     "data": {
      "text/plain": [
       "False    1958\n",
       "Name: adult, dtype: int64"
      ]
     },
     "execution_count": 354,
     "metadata": {},
     "output_type": "execute_result"
    }
   ],
   "source": []
  },
  {
   "cell_type": "code",
   "execution_count": 351,
   "metadata": {},
   "outputs": [
    {
     "name": "stdout",
     "output_type": "stream",
     "text": [
      "Released           1932\n",
      "Planned              15\n",
      "In Production         8\n",
      "Post Production       2\n",
      "Rumored               1\n",
      "Name: status, dtype: int64\n"
     ]
    }
   ],
   "source": [
    "for column in ['status']:\n",
    "    print(df[column].value_counts())"
   ]
  },
  {
   "cell_type": "code",
   "execution_count": null,
   "metadata": {},
   "outputs": [],
   "source": []
  }
 ],
 "metadata": {
  "kernelspec": {
   "display_name": "Python 3",
   "language": "python",
   "name": "python3"
  },
  "language_info": {
   "codemirror_mode": {
    "name": "ipython",
    "version": 3
   },
   "file_extension": ".py",
   "mimetype": "text/x-python",
   "name": "python",
   "nbconvert_exporter": "python",
   "pygments_lexer": "ipython3",
   "version": "3.7.3"
  }
 },
 "nbformat": 4,
 "nbformat_minor": 2
}
