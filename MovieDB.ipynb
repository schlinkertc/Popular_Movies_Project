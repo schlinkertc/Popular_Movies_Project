{
 "cells": [
  {
   "cell_type": "code",
   "execution_count": 1,
   "metadata": {},
   "outputs": [],
   "source": [
    "import config\n",
    "import json\n",
    "import requests\n",
    "import vulture_scraper\n",
    "api_key = config.API_key"
   ]
  },
  {
   "cell_type": "code",
   "execution_count": 2,
   "metadata": {},
   "outputs": [],
   "source": [
    "## returns data from Movie DB's list of popular movies. updated daily \n",
    "def get_popular(api_key):\n",
    "\n",
    "    url = \"https://api.themoviedb.org/3/movie/popular?api_key={}&language=en-US\".format(api_key)\n",
    "    return requests.get(url).json()"
   ]
  },
  {
   "cell_type": "code",
   "execution_count": 3,
   "metadata": {},
   "outputs": [
    {
     "data": {
      "text/plain": [
       "['Joker',\n",
       " 'Maleficent: Mistress of Evil',\n",
       " 'Terminator: Dark Fate',\n",
       " 'Fast & Furious Presents: Hobbs & Shaw',\n",
       " 'The Lion King']"
      ]
     },
     "execution_count": 3,
     "metadata": {},
     "output_type": "execute_result"
    }
   ],
   "source": [
    "## returns only the titles from Movie DB's list of popular movies \n",
    "def get_popular_titles(api_key):\n",
    "    data = get_popular(api_key)\n",
    "    return [x['title'] for x in data['results']]\n",
    "\n",
    "get_popular_titles(api_key)[:5]"
   ]
  },
  {
   "cell_type": "code",
   "execution_count": 4,
   "metadata": {},
   "outputs": [],
   "source": [
    "## returns data from Movie DB's list of top rated movies \n",
    "def get_top_rated(api_key):\n",
    "    url = \"https://api.themoviedb.org/3/movie/top_rated?api_key={}&language=en-US\".format(api_key)\n",
    "    return requests.get(url).json()"
   ]
  },
  {
   "cell_type": "code",
   "execution_count": 5,
   "metadata": {},
   "outputs": [],
   "source": [
    "## returns list of IDs from Movie DB's top rated movies \n",
    "def get_top_rated_ids(api_key):\n",
    "    data = get_top_rated(api_key)\n",
    "    return [x['id'] for x in data['results']]\n"
   ]
  },
  {
   "cell_type": "code",
   "execution_count": 6,
   "metadata": {},
   "outputs": [],
   "source": [
    "## returns full details when given a list of movie IDs\n",
    "def get_movies(ids):\n",
    "    data = []\n",
    "    for i in ids:\n",
    "        url = \"https://api.themoviedb.org/3/movie/{}?api_key={}&language=en-US\".format(i,api_key)\n",
    "        data.append(requests.get(url).json())\n",
    "    return data"
   ]
  },
  {
   "cell_type": "code",
   "execution_count": 7,
   "metadata": {},
   "outputs": [],
   "source": [
    "## returns movie data when given an API key and list of movie titles \n",
    "\n",
    "def search_movies(api_key, list_of_movies):\n",
    "    data = []\n",
    "    for movie in list_of_movies:\n",
    "        url = \"https://api.themoviedb.org/3/search/movie?api_key={}&language=en-US&query={}\".format(api_key,movie)\n",
    "        data.append(requests.get(url).json())\n",
    "    return data\n"
   ]
  },
  {
   "cell_type": "code",
   "execution_count": 9,
   "metadata": {},
   "outputs": [],
   "source": [
    "## search Movie DB for the best movies on Hulu according to Vulture \n",
    "\n",
    "hulu_movies = search_movies(api_key, vulture_scraper.best_hulu)"
   ]
  },
  {
   "cell_type": "code",
   "execution_count": 10,
   "metadata": {},
   "outputs": [
    {
     "data": {
      "text/plain": [
       "{'page': 1,\n",
       " 'total_results': 1,\n",
       " 'total_pages': 1,\n",
       " 'results': [{'popularity': 31.586,\n",
       "   'vote_count': 4273,\n",
       "   'video': False,\n",
       "   'poster_path': '/AkJQpZp9WoNdj7pLYSj1L0RcMMN.jpg',\n",
       "   'id': 353081,\n",
       "   'adult': False,\n",
       "   'backdrop_path': '/aw4FOsWr2FY373nKSxbpNi3fz4F.jpg',\n",
       "   'original_language': 'en',\n",
       "   'original_title': 'Mission: Impossible - Fallout',\n",
       "   'genre_ids': [28, 12],\n",
       "   'title': 'Mission: Impossible - Fallout',\n",
       "   'vote_average': 7.3,\n",
       "   'overview': 'When an IMF mission ends badly, the world is faced with dire consequences. As Ethan Hunt takes it upon himself to fulfill his original briefing, the CIA begin to question his loyalty and his motives. The IMF team find themselves in a race against time, hunted by assassins while trying to prevent a global catastrophe.',\n",
       "   'release_date': '2018-07-27'}]}"
      ]
     },
     "execution_count": 10,
     "metadata": {},
     "output_type": "execute_result"
    }
   ],
   "source": [
    "hulu_movies[0]"
   ]
  },
  {
   "cell_type": "code",
   "execution_count": null,
   "metadata": {},
   "outputs": [],
   "source": []
  }
 ],
 "metadata": {
  "kernelspec": {
   "display_name": "Python 3",
   "language": "python",
   "name": "python3"
  },
  "language_info": {
   "codemirror_mode": {
    "name": "ipython",
    "version": 3
   },
   "file_extension": ".py",
   "mimetype": "text/x-python",
   "name": "python",
   "nbconvert_exporter": "python",
   "pygments_lexer": "ipython3",
   "version": "3.7.3"
  }
 },
 "nbformat": 4,
 "nbformat_minor": 2
}
