{
 "cells": [
  {
   "cell_type": "code",
   "execution_count": 25,
   "metadata": {},
   "outputs": [],
   "source": [
    "import config\n",
    "import json\n",
    "import requests\n",
    "import vulture_scraper as vulture\n",
    "api_key = config.API_key\n",
    "import time "
   ]
  },
  {
   "cell_type": "code",
   "execution_count": 3,
   "metadata": {},
   "outputs": [],
   "source": [
    "## returns data from Movie DB's list of popular movies. updated daily \n",
    "def get_popular(api_key):\n",
    "\n",
    "    url = \"https://api.themoviedb.org/3/movie/popular?api_key={}&language=en-US\".format(api_key)\n",
    "    return requests.get(url).json()"
   ]
  },
  {
   "cell_type": "code",
   "execution_count": 4,
   "metadata": {},
   "outputs": [
    {
     "data": {
      "text/plain": [
       "['Joker',\n",
       " 'Maleficent: Mistress of Evil',\n",
       " 'Terminator: Dark Fate',\n",
       " 'Fast & Furious Presents: Hobbs & Shaw',\n",
       " 'The Lion King']"
      ]
     },
     "execution_count": 4,
     "metadata": {},
     "output_type": "execute_result"
    }
   ],
   "source": [
    "## returns only the titles from Movie DB's list of popular movies \n",
    "def get_popular_titles(api_key):\n",
    "    data = get_popular(api_key)\n",
    "    return [x['title'] for x in data['results']]\n",
    "\n",
    "get_popular_titles(api_key)[:5]"
   ]
  },
  {
   "cell_type": "code",
   "execution_count": 5,
   "metadata": {},
   "outputs": [],
   "source": [
    "## returns data from Movie DB's list of top rated movies \n",
    "def get_top_rated(api_key):\n",
    "    url = \"https://api.themoviedb.org/3/movie/top_rated?api_key={}&language=en-US\".format(api_key)\n",
    "    return requests.get(url).json()"
   ]
  },
  {
   "cell_type": "code",
   "execution_count": 6,
   "metadata": {},
   "outputs": [],
   "source": [
    "## returns list of IDs from Movie DB's top rated movies \n",
    "def get_top_rated_ids(api_key):\n",
    "    data = get_top_rated(api_key)\n",
    "    return [x['id'] for x in data['results']]\n"
   ]
  },
  {
   "cell_type": "code",
   "execution_count": 7,
   "metadata": {},
   "outputs": [],
   "source": [
    "## returns full details when given a list of movie IDs\n",
    "def get_movies(ids):\n",
    "    data = []\n",
    "    for i in ids:\n",
    "        url = \"https://api.themoviedb.org/3/movie/{}?api_key={}&language=en-US\".format(i,api_key)\n",
    "        data.append(requests.get(url).json())\n",
    "    return data"
   ]
  },
  {
   "cell_type": "code",
   "execution_count": 80,
   "metadata": {},
   "outputs": [],
   "source": [
    "## returns movie data when given an API key and list of movie titles \n",
    "\n",
    "def search_movies(api_key, list_of_movies):\n",
    "    data = []\n",
    "    for movie in list_of_movies[0:40]:\n",
    "        url = \"https://api.themoviedb.org/3/search/movie?api_key={}&language=en-US&query={}\".format(api_key,movie)\n",
    "        data.extend(requests.get(url).json())\n",
    "        time.sleep(1)\n",
    "    time.sleep(10)\n",
    "    for movie in list_of_movies[41:]:\n",
    "        url = \"https://api.themoviedb.org/3/search/movie?api_key={}&language=en-US&query={}\".format(api_key,movie)\n",
    "        data.extend(requests.get(url).json())\n",
    "        time.sleep(1)\n",
    "    return data\n"
   ]
  },
  {
   "cell_type": "code",
   "execution_count": 81,
   "metadata": {},
   "outputs": [],
   "source": [
    "## search Movie DB for the best movies on Hulu according to Vulture \n",
    "\n",
    "hulu_movies = search_movies(api_key, vulture_scraper.best_hulu)"
   ]
  },
  {
   "cell_type": "code",
   "execution_count": 35,
   "metadata": {},
   "outputs": [],
   "source": [
    "netflix_movies = search_movies(api_key, vulture.best_netflix)"
   ]
  },
  {
   "cell_type": "code",
   "execution_count": 36,
   "metadata": {},
   "outputs": [],
   "source": [
    "amazon_movies = search_movies(api_key, vulture.best_amazon)"
   ]
  },
  {
   "cell_type": "code",
   "execution_count": 77,
   "metadata": {},
   "outputs": [],
   "source": [
    "## enter the data from the search_movies function, returns only the results of the query\n",
    "def search_movies_parse(search_query):\n",
    "    results = [x['results'] for x in search_query]\n",
    "    for x in results:\n",
    "        return x \n",
    "\n",
    "        "
   ]
  },
  {
   "cell_type": "code",
   "execution_count": 79,
   "metadata": {},
   "outputs": [
    {
     "data": {
      "text/plain": [
       "3"
      ]
     },
     "execution_count": 79,
     "metadata": {},
     "output_type": "execute_result"
    }
   ],
   "source": [
    "hulu_results = search_movies_parse(hulu_movies)\n",
    "len(hulu_results)"
   ]
  },
  {
   "cell_type": "code",
   "execution_count": null,
   "metadata": {},
   "outputs": [],
   "source": []
  }
 ],
 "metadata": {
  "kernelspec": {
   "display_name": "Python 3",
   "language": "python",
   "name": "python3"
  },
  "language_info": {
   "codemirror_mode": {
    "name": "ipython",
    "version": 3
   },
   "file_extension": ".py",
   "mimetype": "text/x-python",
   "name": "python",
   "nbconvert_exporter": "python",
   "pygments_lexer": "ipython3",
   "version": "3.7.3"
  }
 },
 "nbformat": 4,
 "nbformat_minor": 2
}
