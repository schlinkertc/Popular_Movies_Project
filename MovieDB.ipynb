{
 "cells": [
  {
   "cell_type": "code",
   "execution_count": 8,
   "metadata": {},
   "outputs": [],
   "source": [
    "import config\n",
    "import json\n",
    "import requests\n",
    "import vulture_scraper as vulture\n",
    "api_key = config.API_key\n",
    "import time \n",
    "import datetime\n",
    "import query_helper"
   ]
  },
  {
   "cell_type": "code",
   "execution_count": 2,
   "metadata": {},
   "outputs": [],
   "source": [
    "def search_movies_timed(api_key, list_of_movies):\n",
    "        lengthToSleep = 40/59\n",
    "        \n",
    "        data = []\n",
    "        \n",
    "        for movie in list_of_movies:\n",
    "            url = \"https://api.themoviedb.org/3/search/movie?api_key={}&language=en-US&query={}\".format(api_key,movie)\n",
    "            data.append(requests.get(url).json())\n",
    "            time.sleep(lengthToSleep)\n",
    "            \n",
    "        results_list_nested = [x.get('results') for x in data]\n",
    "        results = [val for sublist in results_list_nested if type(sublist) == list for val in sublist] #<-- if clause makes sure that we're not iterating over none\n",
    "        \n",
    "        num_results = sum(filter(None,[x.get('total_results') for x in data])) # <--- not super useful but i was proud of the code\n",
    "        \n",
    "        return results \n",
    "        "
   ]
  },
  {
   "cell_type": "code",
   "execution_count": 3,
   "metadata": {},
   "outputs": [],
   "source": [
    "def get_movies_timed(api_key,ids):\n",
    "    \n",
    "    lengthToSleep = 40/59        \n",
    "    \n",
    "    data = []\n",
    "    for i in ids:\n",
    "        url = \"https://api.themoviedb.org/3/movie/{}?api_key={}&language=en-US\".format(i,api_key)\n",
    "        data.append(requests.get(url).json())\n",
    "        \n",
    "        time.sleep(lengthToSleep)\n",
    "        \n",
    "    return data"
   ]
  },
  {
   "cell_type": "code",
   "execution_count": 7,
   "metadata": {},
   "outputs": [],
   "source": [
    "# input list of movies names, return full info for movies\n",
    "def search_and_get(api_key,list_of_movies):\n",
    "    search = search_movies_timed(api_key,list_of_movies)\n",
    "    \n",
    "    exists = query_helper.query(\"\"\"select imdb_id from Movies.tmdb_;\"\"\")\n",
    "    exists = [x[0] for x in exists]\n",
    "    \n",
    "    ids = [d['id'] for d in search if d['id'] not in exists]\n",
    "    \n",
    "    return get_movies_timed(api_key,ids)\n",
    "        "
   ]
  },
  {
   "cell_type": "code",
   "execution_count": 5,
   "metadata": {},
   "outputs": [],
   "source": [
    "results = search_and_get(api_key, ['blair witch project'])\n"
   ]
  },
  {
   "cell_type": "code",
   "execution_count": 20,
   "metadata": {
    "scrolled": true
   },
   "outputs": [],
   "source": [
    "## key:type(value) test for list of dictionaries\n",
    "## nifty lil' function to check the data types of dictionary values\n",
    "def key_test(list_of_dicts):\n",
    "    return [{key:type(d.get(key)) for key in d.keys()} for d in list_of_dicts]          "
   ]
  },
  {
   "cell_type": "code",
   "execution_count": 21,
   "metadata": {},
   "outputs": [],
   "source": [
    "## search results will be a list of dictionaries \n",
    "def parse_function(search_results):\n",
    "    results = []\n",
    "    for d in search_results:\n",
    "        if (d['imdb_id'] != '' and d['imdb_id'] != None and d['status'] == 'Released'):\n",
    "            parsed_results = {}\n",
    "\n",
    "            parsed_results['id'] = d.get('id')\n",
    "            parsed_results['original_language'] = d['original_language']\n",
    "            parsed_results['overview'] = d.get('overview')\n",
    "            parsed_results['title'] = d.get('title')\n",
    "            parsed_results['popularity'] = d.get('popularity')\n",
    "\n",
    "            if d['belongs_to_collection'] == None:\n",
    "                parsed_results['collection'] = None\n",
    "            else: \n",
    "                parsed_results['collection'] = d['belongs_to_collection']['name']\n",
    "                #make list into str\n",
    "                temp = ''\n",
    "                for i in parsed_results['collection']:\n",
    "                    temp += i + ' '\n",
    "                parsed_results['collection'] = temp\n",
    "\n",
    "            parsed_results['budget'] = d.get('budget')\n",
    "            parsed_results['revenue'] = d.get('revenue')\n",
    "\n",
    "            if len(d['genres']) == 0:\n",
    "                parsed_results['genres'] = None\n",
    "            else:\n",
    "                parsed_results['genres'] = [x['name'] for x in d['genres']]\n",
    "                                #make list into str\n",
    "                temp = ''\n",
    "                for i in parsed_results['genres']:\n",
    "                    temp += i + ' '\n",
    "                parsed_results['genres'] = temp\n",
    "\n",
    "\n",
    "            if len(d['production_companies']) == 0:\n",
    "                parsed_results['production_company'] = None\n",
    "            else:\n",
    "                parsed_results['production_company'] = [x['name'] for x in d['production_companies']]\n",
    "                                                #make list into str\n",
    "                temp = ''\n",
    "                for i in parsed_results['production_company']:\n",
    "                    temp += i + ' '\n",
    "                parsed_results['production_company'] = temp\n",
    "\n",
    "            if len(d['production_countries']) == 0:\n",
    "                parsed_results['production_countries'] = None\n",
    "            else:\n",
    "                parsed_results['production_countries'] = [x['name'] for x in d['production_countries']]\n",
    "                                                #make list into str\n",
    "                temp = ''\n",
    "                for i in parsed_results['production_countries']:\n",
    "                    temp += i + ' '\n",
    "                parsed_results['production_countries'] = temp\n",
    "\n",
    "            if d['release_date'] == '':\n",
    "                parsed_results['release_date'] = None \n",
    "            else:\n",
    "                parsed_results['release_date'] = datetime.datetime.strptime(d['release_date'],\"%Y-%m-%d\").date()\n",
    "\n",
    "            if d['runtime'] == None:\n",
    "                parsed_results['run_time'] = None\n",
    "            else:\n",
    "                parsed_results['run_time'] = d['runtime']\n",
    "           \n",
    "            if len(d['spoken_languages']) == 0:\n",
    "                parsed_results['spoken_lang'] = None \n",
    "            else:\n",
    "                parsed_results['spoken_lang'] = [x['name'] for x in d['spoken_languages']]\n",
    "                                                #make list into str\n",
    "                temp = ''\n",
    "                for i in parsed_results['spoken_lang']:\n",
    "                    temp += i + ' '\n",
    "                parsed_results['spoken_lang'] = temp\n",
    "            \n",
    "            if d['tagline'] == '':\n",
    "                parsed_results['tagline'] = None\n",
    "            else: \n",
    "                parsed_results['tagline'] = d['tagline']\n",
    "            \n",
    "            parsed_results['vote_avg'] = d['vote_average']\n",
    "            parsed_results['vote_count'] = d['vote_count']\n",
    "            parsed_results['imdb_id'] = d['imdb_id']\n",
    "            parsed_results['vote_count'] = d['vote_count']\n",
    "            \n",
    "            \n",
    "            results.append(parsed_results)\n",
    "    return results"
   ]
  },
  {
   "cell_type": "code",
   "execution_count": 22,
   "metadata": {},
   "outputs": [],
   "source": [
    "query_helper.db_insert(parse_function(amazon_results))"
   ]
  },
  {
   "cell_type": "code",
   "execution_count": null,
   "metadata": {},
   "outputs": [],
   "source": []
  }
 ],
 "metadata": {
  "kernelspec": {
   "display_name": "Python 3",
   "language": "python",
   "name": "python3"
  },
  "language_info": {
   "codemirror_mode": {
    "name": "ipython",
    "version": 3
   },
   "file_extension": ".py",
   "mimetype": "text/x-python",
   "name": "python",
   "nbconvert_exporter": "python",
   "pygments_lexer": "ipython3",
   "version": "3.7.3"
  }
 },
 "nbformat": 4,
 "nbformat_minor": 2
}
