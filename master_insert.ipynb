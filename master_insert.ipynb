{
 "cells": [
  {
   "cell_type": "code",
   "execution_count": 3,
   "metadata": {},
   "outputs": [],
   "source": [
    "import config\n",
    "import json\n",
    "import requests\n",
    "import vulture_scraper as vulture\n",
    "api_key = config.API_key\n",
    "import time \n",
    "import datetime\n",
    "import mysql.connector\n",
    "from mysql.connector import errorcode\n",
    "import pandas as pd\n",
    "import movieDB_functions\n",
    "import imdb_scraper\n",
    "import query_helper"
   ]
  },
  {
   "cell_type": "code",
   "execution_count": 10,
   "metadata": {},
   "outputs": [],
   "source": [
    "def master_insert(search_terms):\n",
    "    MDBsearch_get = movieDB_functions.search_and_get(config.API_key, search_terms)\n",
    "    parse = movieDB_functions.parse_function(MDBsearch_get)\n",
    "    \n",
    "    insert = query_helper.db_insert(parse)\n",
    "    \n",
    "    id_list = [d['imdb_id'] for d in parse]\n",
    "    \n",
    "    imdb_scrape = imdb_scraper.get_all(id_list)\n",
    "    \n",
    "    query_helper.insert_imdb(imdb_scrape)\n",
    "    "
   ]
  },
  {
   "cell_type": "code",
   "execution_count": 11,
   "metadata": {},
   "outputs": [],
   "source": [
    "master_insert(['jaws'])"
   ]
  },
  {
   "cell_type": "code",
   "execution_count": null,
   "metadata": {},
   "outputs": [],
   "source": []
  }
 ],
 "metadata": {
  "kernelspec": {
   "display_name": "Python 3",
   "language": "python",
   "name": "python3"
  },
  "language_info": {
   "codemirror_mode": {
    "name": "ipython",
    "version": 3
   },
   "file_extension": ".py",
   "mimetype": "text/x-python",
   "name": "python",
   "nbconvert_exporter": "python",
   "pygments_lexer": "ipython3",
   "version": "3.7.3"
  }
 },
 "nbformat": 4,
 "nbformat_minor": 2
}
