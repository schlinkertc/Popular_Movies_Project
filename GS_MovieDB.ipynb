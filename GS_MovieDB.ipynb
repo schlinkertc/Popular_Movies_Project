{
 "cells": [
  {
   "cell_type": "code",
   "execution_count": 29,
   "metadata": {},
   "outputs": [],
   "source": [
    "import config\n",
    "import json\n",
    "import requests\n",
    "import vulture_scraper as vulture\n",
    "api_key = config.API_key\n",
    "import time \n",
    "import mysql.connector\n",
    "from mysql.connector import errorcode\n",
    "import pandas as pd"
   ]
  },
  {
   "cell_type": "code",
   "execution_count": 30,
   "metadata": {},
   "outputs": [],
   "source": [
    "## Connect to DB server on AWS\n",
    "## connecting to the database using 'connect()' method\n",
    "## it takes 3 required parameters 'host', 'user', 'passwd'\n",
    "cnx = mysql.connector.connect(\n",
    "    host = config.host,\n",
    "    user = config.user,\n",
    "    passwd = config.password,\n",
    "    database = \"Movies\"       #can say what database we expect everything loaded into\n",
    ")\n",
    "cursor = cnx.cursor()"
   ]
  },
  {
   "cell_type": "code",
   "execution_count": 31,
   "metadata": {},
   "outputs": [],
   "source": [
    "#write a query entry to creat a table\n",
    "create_query = \"\"\"\n",
    "CREATE TABLE tmdb (\n",
    "      id varchar(50) NOT NULL,\n",
    "      collection varchar(50),\n",
    "      budget int,\n",
    "      genres varchar(50),\n",
    "      original_language varchar(50),\n",
    "      overview varchar(50),\n",
    "      title varchar(50),\n",
    "      popularity float,\n",
    "      production_companies varchar(50),\n",
    "      production_country varchar(50),\n",
    "      release_date date,\n",
    "      run_time int,\n",
    "      spoken_lang varchar(50),\n",
    "      tagline varchar(50),\n",
    "      vote_avg float,\n",
    "      vote_count int,\n",
    "      imdb_id varchar(50),\n",
    "      review_count int,\n",
    "      rating float\n",
    "    )\n",
    "\"\"\""
   ]
  },
  {
   "cell_type": "code",
   "execution_count": 32,
   "metadata": {},
   "outputs": [
    {
     "name": "stdout",
     "output_type": "stream",
     "text": [
      "Creating a new table\n",
      "already exists.\n"
     ]
    }
   ],
   "source": [
    "#try to create database table\n",
    "try:\n",
    "    print(\"Creating a new table\")\n",
    "    cursor.execute(create_query)\n",
    "except mysql.connector.Error as err:\n",
    "    if err.errno == errorcode.ER_TABLE_EXISTS_ERROR:\n",
    "        print(\"already exists.\")\n",
    "    else:\n",
    "        print(err.msg)\n",
    "else:\n",
    "    print(\"OK\")\n",
    "        \n",
    "cursor.close()\n",
    "cnx.close()"
   ]
  },
  {
   "cell_type": "code",
   "execution_count": 33,
   "metadata": {},
   "outputs": [],
   "source": [
    "#write a function that gets a list of dicts, conversts the data to tuples and inserts into our db\n",
    "def db_insert(movie_dict):\n",
    "    list_of_tuples = []\n",
    "    for movie in movie_dict:\n",
    "        temp_tuple = ()\n",
    "        temp_tuple = (movie['id'],\n",
    "              movie['collection'],\n",
    "              movie['budget'],\n",
    "              movie['genres'],\n",
    "              movie['original_language'],\n",
    "              movie['overview'],\n",
    "              movie['title'],\n",
    "              movie['popularity'],\n",
    "              movie['production_companies'],\n",
    "              movie['production_country'],\n",
    "              movie['release_date'],\n",
    "              movie['run_time'],\n",
    "              movie['spoken_lang'],\n",
    "              movie['tagline'],\n",
    "              movie['vote_avg'],\n",
    "              movie['vote_count'],\n",
    "              movie['imdb_id'],\n",
    "              movie['review_count'],\n",
    "              movie['rating'])\n",
    "        list_of_tuples.append(temp_tuple)\n",
    "    \n",
    "    \n",
    "## NOW we insert into out db\n",
    "    #open connection\n",
    "    cnx = mysql.connector.connect(\n",
    "    host = config.host,\n",
    "    user = config.admin,\n",
    "    passwd = config.password,\n",
    "    database = \"Movies\")\n",
    "    \n",
    "    #create cursor\n",
    "    cursor = cnx.cursor()\n",
    "    \n",
    "    \n",
    "    insert_statement = (\"\"\"INSERT INTO tmdb(\n",
    "                      id,\n",
    "                      collection,\n",
    "                      budget,\n",
    "                      genres,\n",
    "                      original_language,\n",
    "                      overview,\n",
    "                      title,\n",
    "                      popularity,\n",
    "                      production_companies ,\n",
    "                      production_country,\n",
    "                      release_date,\n",
    "                      run_time,\n",
    "                      spoken_lang,\n",
    "                      tagline,\n",
    "                      vote_avg,\n",
    "                      vote_count,\n",
    "                      imdb_id,\n",
    "                      review_count,\n",
    "                      rating float (%s,%s,%s,%s,%s,%s,%s,%s,%s,%s,%s,%s,%s,%s,%s,%s,%s,%s,%s,)\"\"\")\n",
    "    \n",
    "    cursor.executemany(insert_statement, list_of_tuples)\n",
    "    cnx.commit() \n",
    "    \n",
    "    cursor.close()\n",
    "    cnx.close()"
   ]
  },
  {
   "cell_type": "code",
   "execution_count": null,
   "metadata": {},
   "outputs": [],
   "source": []
  },
  {
   "cell_type": "code",
   "execution_count": null,
   "metadata": {},
   "outputs": [],
   "source": []
  },
  {
   "cell_type": "code",
   "execution_count": null,
   "metadata": {},
   "outputs": [],
   "source": []
  },
  {
   "cell_type": "code",
   "execution_count": null,
   "metadata": {},
   "outputs": [],
   "source": []
  },
  {
   "cell_type": "code",
   "execution_count": null,
   "metadata": {},
   "outputs": [],
   "source": []
  },
  {
   "cell_type": "code",
   "execution_count": null,
   "metadata": {},
   "outputs": [],
   "source": []
  },
  {
   "cell_type": "code",
   "execution_count": null,
   "metadata": {},
   "outputs": [],
   "source": [
    "## returns data from Movie DB's list of popular movies. updated daily \n",
    "def get_popular(api_key):\n",
    "\n",
    "    url = \"https://api.themoviedb.org/3/movie/popular?api_key={}&language=en-US\".format(api_key)\n",
    "    return requests.get(url).json()"
   ]
  },
  {
   "cell_type": "code",
   "execution_count": null,
   "metadata": {},
   "outputs": [],
   "source": [
    "## returns only the titles from Movie DB's list of popular movies \n",
    "def get_popular_titles(api_key):\n",
    "    data = get_popular(api_key)\n",
    "    return [x['title'] for x in data['results']]\n",
    "\n",
    "get_popular_titles(api_key)[:5]"
   ]
  },
  {
   "cell_type": "code",
   "execution_count": null,
   "metadata": {},
   "outputs": [],
   "source": [
    "## returns data from Movie DB's list of top rated movies \n",
    "def get_top_rated(api_key):\n",
    "    url = \"https://api.themoviedb.org/3/movie/top_rated?api_key={}&language=en-US\".format(api_key)\n",
    "    return requests.get(url).json()"
   ]
  },
  {
   "cell_type": "code",
   "execution_count": null,
   "metadata": {},
   "outputs": [],
   "source": [
    "## returns list of IDs from Movie DB's top rated movies \n",
    "def get_top_rated_ids(api_key):\n",
    "    data = get_top_rated(api_key)\n",
    "    return [x['id'] for x in data['results']]\n"
   ]
  },
  {
   "cell_type": "code",
   "execution_count": null,
   "metadata": {},
   "outputs": [],
   "source": [
    "## returns full details when given a list of movie IDs\n",
    "def get_movies(api_key,ids):\n",
    "    data = []\n",
    "    for i in ids:\n",
    "        url = \"https://api.themoviedb.org/3/movie/{}?api_key={}&language=en-US\".format(i,api_key)\n",
    "        time.sleep(.5)\n",
    "        data.append(requests.get(url).json())\n",
    "    return data"
   ]
  },
  {
   "cell_type": "code",
   "execution_count": null,
   "metadata": {},
   "outputs": [],
   "source": [
    "## returns movie data when given an API key and list of movie titles \n",
    "\n",
    "def search_movies(api_key, list_of_movies):\n",
    "    data = []\n",
    "    for movie in list_of_movies[0:40]:\n",
    "        url = \"https://api.themoviedb.org/3/search/movie?api_key={}&language=en-US&query={}\".format(api_key,movie)\n",
    "        data.extend(requests.get(url).json()['results'])\n",
    "        time.sleep(1)\n",
    "    #time.sleep(10)\n",
    "    for movie in list_of_movies[40:]:\n",
    "        url = \"https://api.themoviedb.org/3/search/movie?api_key={}&language=en-US&query={}\".format(api_key,movie)\n",
    "        data.extend(requests.get(url).json()['results'])\n",
    "        time.sleep(1)\n",
    "    return data\n"
   ]
  },
  {
   "cell_type": "code",
   "execution_count": null,
   "metadata": {},
   "outputs": [],
   "source": [
    "# def search_movies(api_key, list_of_movies):\n",
    "#     data = []\n",
    "#     for movie in list_of_movies[0:40]:\n",
    "#         url = \"https://api.themoviedb.org/3/search/movie?api_key={}&language=en-US&query={}\".format(api_key,movie)\n",
    "#         temp = requests.get(url).json()['results']\n",
    "#         data.extend(temp[0])\n",
    "#         time.sleep(1)\n",
    "#     time.sleep(21)\n",
    "#     for movie in list_of_movies[41:]:\n",
    "#         url = \"https://api.themoviedb.org/3/search/movie?api_key={}&language=en-US&query={}\".format(api_key,movie)\n",
    "#         temp = requests.get(url).json()['results']\n",
    "#         data.extend(temp[0])\n",
    "#         time.sleep(1)\n",
    "#     return data\n"
   ]
  },
  {
   "cell_type": "code",
   "execution_count": null,
   "metadata": {},
   "outputs": [],
   "source": [
    "## search Movie DB for the best movies on Hulu according to Vulture \n",
    "\n",
    "hulu_movies = search_movies(api_key, vulture.best_hulu)"
   ]
  },
  {
   "cell_type": "code",
   "execution_count": null,
   "metadata": {},
   "outputs": [],
   "source": [
    "netflix_movies = search_movies(api_key, vulture.best_netflix)"
   ]
  },
  {
   "cell_type": "code",
   "execution_count": null,
   "metadata": {},
   "outputs": [],
   "source": [
    "amazon_movies = search_movies(api_key, vulture.best_amazon)"
   ]
  },
  {
   "cell_type": "code",
   "execution_count": null,
   "metadata": {},
   "outputs": [],
   "source": [
    "print(len(hulu_movies)+len(netflix_movies)+len(amazon_movies))\n",
    "all_ids = {x['id'] for x in hulu_movies}|{x['id'] for x in netflix_movies}|{x['id'] for x in amazon_movies}\n",
    "len(set((all_ids)))\n"
   ]
  },
  {
   "cell_type": "code",
   "execution_count": null,
   "metadata": {},
   "outputs": [],
   "source": [
    "get_movies_test = get_movies(api_key,set([x['id'] for x in hulu_movies][0:41]))"
   ]
  },
  {
   "cell_type": "code",
   "execution_count": null,
   "metadata": {},
   "outputs": [],
   "source": [
    "all_movie_data = get_movies(api_key,set(all_ids))\n"
   ]
  },
  {
   "cell_type": "code",
   "execution_count": null,
   "metadata": {},
   "outputs": [],
   "source": [
    "df = pd.DataFrame(all_movie_data)\n",
    "df.head()\n",
    "df_rev_budget = df[['imdb_id','title','revenue','budget','tagline','runtime','genres']]\n",
    "df_rev_budget = df_rev_budget[df_rev_budget['revenue']>0]\n",
    "df_rev_budget['gross_profit']=df['revenue']-df['budget']\n",
    "df_rev_budget.sort_values('gross_profit',ascending=False,inplace=True)\n",
    "df_rev_budget"
   ]
  },
  {
   "cell_type": "code",
   "execution_count": null,
   "metadata": {},
   "outputs": [],
   "source": [
    "df_rev_budget['genres']=df_rev_budget['genres'].map(lambda x: [y['id'] for y in x])\n",
    "df_rev_budget.head()"
   ]
  },
  {
   "cell_type": "code",
   "execution_count": null,
   "metadata": {},
   "outputs": [],
   "source": [
    "df_rev_budget.head()"
   ]
  },
  {
   "cell_type": "code",
   "execution_count": null,
   "metadata": {},
   "outputs": [],
   "source": [
    "df.columns"
   ]
  },
  {
   "cell_type": "code",
   "execution_count": null,
   "metadata": {},
   "outputs": [],
   "source": [
    "df.info()"
   ]
  },
  {
   "cell_type": "code",
   "execution_count": null,
   "metadata": {},
   "outputs": [],
   "source": []
  },
  {
   "cell_type": "code",
   "execution_count": null,
   "metadata": {},
   "outputs": [],
   "source": [
    "for column in ['status']:\n",
    "    print(df[column].value_counts())"
   ]
  },
  {
   "cell_type": "code",
   "execution_count": null,
   "metadata": {},
   "outputs": [],
   "source": []
  }
 ],
 "metadata": {
  "kernelspec": {
   "display_name": "Python 3",
   "language": "python",
   "name": "python3"
  },
  "language_info": {
   "codemirror_mode": {
    "name": "ipython",
    "version": 3
   },
   "file_extension": ".py",
   "mimetype": "text/x-python",
   "name": "python",
   "nbconvert_exporter": "python",
   "pygments_lexer": "ipython3",
   "version": "3.7.3"
  }
 },
 "nbformat": 4,
 "nbformat_minor": 2
}
